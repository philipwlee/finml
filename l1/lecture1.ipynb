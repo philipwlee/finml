{
 "cells": [
  {
   "cell_type": "code",
   "execution_count": 1,
   "id": "6dbc1ee0-5436-44f2-8460-48ff784d074c",
   "metadata": {},
   "outputs": [],
   "source": [
    "import numpy as np"
   ]
  },
  {
   "cell_type": "code",
   "execution_count": 2,
   "id": "6d00f883-4fc2-4319-b32f-82045c6d19b8",
   "metadata": {},
   "outputs": [
    {
     "name": "stdout",
     "output_type": "stream",
     "text": [
      "Function:            0.6531\n",
      "Analytical solution: 0.6531\n"
     ]
    }
   ],
   "source": [
    "def gini(labels):\n",
    "    n = len(labels)\n",
    "    probs = [sum(labels==i)/n for i in set(labels)]\n",
    "    return sum([p*(1-p) for p in probs])\n",
    "\n",
    "labels = np.array([0,0,1,1,1,2,2])\n",
    "print(f\"Function:            {gini(labels):.4f}\")\n",
    "print(f\"Analytical solution: {32/49:.4f}\")"
   ]
  },
  {
   "cell_type": "code",
   "execution_count": 3,
   "id": "52ae4527-b325-4eac-a3a3-bbd19ab2303c",
   "metadata": {},
   "outputs": [
    {
     "data": {
      "text/plain": [
       "0.5"
      ]
     },
     "execution_count": 3,
     "metadata": {},
     "output_type": "execute_result"
    }
   ],
   "source": [
    "gini(np.array([1,1,-1,-1]))"
   ]
  },
  {
   "cell_type": "code",
   "execution_count": 4,
   "id": "e1b5bd93-db62-47d2-8658-649f06c7745f",
   "metadata": {},
   "outputs": [
    {
     "data": {
      "text/plain": [
       "array([False, False,  True,  True,  True, False, False])"
      ]
     },
     "execution_count": 4,
     "metadata": {},
     "output_type": "execute_result"
    }
   ],
   "source": [
    "labels==1"
   ]
  },
  {
   "cell_type": "code",
   "execution_count": 5,
   "id": "010d446a-3f38-4e42-8847-e8ecdb4752ff",
   "metadata": {},
   "outputs": [
    {
     "data": {
      "text/plain": [
       "[[(1, 0.5), 0.5238095238095238],\n",
       " [(1, 3.5), 0.5238095238095238],\n",
       " [(1, 0.5), 0.5238095238095238],\n",
       " [(1, 0.0), 0.5238095238095238],\n",
       " [(1, 0.5), 0.5238095238095238],\n",
       " [(1, 2.5), 0.5428571428571429],\n",
       " [(1, 2.5), 0.5428571428571429],\n",
       " [(1, 2.5), 0.5428571428571429],\n",
       " [(1, 2.5), 0.5428571428571429],\n",
       " [(0, 2.5), 0.5476190476190477],\n",
       " [(0, 2.5), 0.5476190476190477],\n",
       " [(0, 2.5), 0.5476190476190477],\n",
       " [(0, 2.5), 0.5476190476190477],\n",
       " [(0, 0.0), 0.5714285714285714],\n",
       " [(0, 3.5), 0.5714285714285714],\n",
       " [(0, 4.5), 0.5714285714285714],\n",
       " [(0, 0.5), 0.5714285714285714],\n",
       " [(0, 4.0), 0.5714285714285714],\n",
       " [(0, 4.5), 0.5714285714285714],\n",
       " [(0, 4.5), 0.5714285714285714],\n",
       " [(0, 1.5), 0.6],\n",
       " [(1, 1.5), 0.6],\n",
       " [(1, 1.5), 0.6],\n",
       " [(1, 1.5), 0.6],\n",
       " [(1, 1.5), 0.6]]"
      ]
     },
     "execution_count": 5,
     "metadata": {},
     "output_type": "execute_result"
    }
   ],
   "source": [
    "def optimal_split(data, labels):\n",
    "    \"\"\"From class\"\"\"\n",
    "    m = len(data)\n",
    "    xs = data[:,0]\n",
    "    ys = data[:,1]\n",
    "    \n",
    "    mids = [(data[i, 0] + data[j,0])/2\n",
    "            for i in range(m)\n",
    "            for j in range(i+1, m)],\\\n",
    "           [(data[i, 1] + data[j,1])/2\n",
    "            for i in range(m)\n",
    "            for j in range(i+1, m)]\n",
    "    non_mids = [x for x in mids[0] if x not in xs],\\\n",
    "               [y for y in mids[1] if y not in ys]\n",
    "    \n",
    "    splits = [(0, non_mids[0][i]) for i in range(len(non_mids[0]))] + \\\n",
    "             [(1, non_mids[1][i]) for i in range(len(non_mids[1]))]\n",
    "    \n",
    "    split_inds = []\n",
    "    \n",
    "    for s in splits:\n",
    "        L = [labels[i] for i in range(m) if data[i][s[0]] <= s[1]]\n",
    "        R = [labels[i] for i in range(m) if data[i][s[0]]  > s[1]]\n",
    "        \n",
    "        g = 0\n",
    "        if (len(L) > 0) and (len(R) > 0):\n",
    "            g = len(L) * gini(L) + len(R) * gini(R)\n",
    "        \n",
    "        split_inds.append([s, g/m])\n",
    "    \n",
    "    return sorted(split_inds, key=lambda x: x[1])\n",
    "\n",
    "data = np.array([(1,2), (3,3), (-1,2), (6,1), (2,2), (3,-1), (3,4)])\n",
    "s0 = optimal_split(data, labels)\n",
    "\n",
    "s0"
   ]
  },
  {
   "cell_type": "code",
   "execution_count": 6,
   "id": "5d00510c-de32-41ba-a3bb-8bfec065dca8",
   "metadata": {},
   "outputs": [
    {
     "data": {
      "text/plain": [
       "[[(0, 0.5), 0.5],\n",
       " [(0, 0.5), 0.5],\n",
       " [(0, 0.5), 0.5],\n",
       " [(0, 0.5), 0.5],\n",
       " [(1, 0.5), 0.5],\n",
       " [(1, 0.5), 0.5],\n",
       " [(1, 0.5), 0.5],\n",
       " [(1, 0.5), 0.5]]"
      ]
     },
     "execution_count": 6,
     "metadata": {},
     "output_type": "execute_result"
    }
   ],
   "source": [
    "labels = np.array([1,1,-1,-1])\n",
    "data = np.array([(0,0),(1,1),(1,0),(0,1)])\n",
    "\n",
    "sq = optimal_split(data, labels)\n",
    "\n",
    "sq"
   ]
  },
  {
   "cell_type": "code",
   "execution_count": 8,
   "id": "1d87cac7-fc5f-4b04-8968-78447ec452b4",
   "metadata": {},
   "outputs": [
    {
     "data": {
      "text/plain": [
       "(array([[0, 0],\n",
       "        [0, 1]]),\n",
       " [1, -1])"
      ]
     },
     "execution_count": 8,
     "metadata": {},
     "output_type": "execute_result"
    }
   ],
   "source": [
    "def compute_nodes(s, data, labels):\n",
    "    L = [i for i in range(len(data)) if data[i][s[0]] <= s[1]]\n",
    "    R = [i for i in range(len(data)) if data[i][s[0]]  > s[1]]\n",
    "    \n",
    "    L = np.array([data[i] for i in L]), [labels[i] for i in L]\n",
    "    R = np.array([data[i] for i in R]), [labels[i] for i in R]\n",
    "    return L, R\n",
    "\n",
    "L0, R0 = compute_nodes(sq[0][0], data, labels)\n",
    "\n",
    "L0"
   ]
  },
  {
   "cell_type": "code",
   "execution_count": 6,
   "id": "680778db-a486-4bb3-af4a-1389595a4282",
   "metadata": {},
   "outputs": [
    {
     "data": {
      "text/plain": [
       "(array([[ 1,  2],\n",
       "        [ 3,  3],\n",
       "        [-1,  2],\n",
       "        [ 6,  1],\n",
       "        [ 2,  2],\n",
       "        [ 3,  4]]),\n",
       " [0, 0, 1, 1, 1, 2])"
      ]
     },
     "execution_count": 6,
     "metadata": {},
     "output_type": "execute_result"
    }
   ],
   "source": [
    "R0"
   ]
  },
  {
   "cell_type": "code",
   "execution_count": 7,
   "id": "be408f62-85c0-4b77-a50c-4aeedd66fec7",
   "metadata": {},
   "outputs": [
    {
     "data": {
      "text/plain": [
       "[[(1, 3.5), 0.39999999999999997],\n",
       " [(1, 2.5), 0.4166666666666667],\n",
       " [(1, 2.5), 0.4166666666666667],\n",
       " [(1, 2.5), 0.4166666666666667],\n",
       " [(1, 2.5), 0.4166666666666667],\n",
       " [(0, 0.0), 0.5333333333333333],\n",
       " [(0, 3.5), 0.5333333333333333],\n",
       " [(0, 4.5), 0.5333333333333333],\n",
       " [(0, 0.5), 0.5333333333333333],\n",
       " [(0, 4.0), 0.5333333333333333],\n",
       " [(0, 4.5), 0.5333333333333333],\n",
       " [(1, 1.5), 0.5333333333333333],\n",
       " [(1, 1.5), 0.5333333333333333],\n",
       " [(1, 1.5), 0.5333333333333333],\n",
       " [(0, 2.5), 0.5555555555555556],\n",
       " [(0, 2.5), 0.5555555555555556],\n",
       " [(0, 2.5), 0.5555555555555556],\n",
       " [(0, 1.5), 0.5833333333333334]]"
      ]
     },
     "execution_count": 7,
     "metadata": {},
     "output_type": "execute_result"
    }
   ],
   "source": [
    "s1 = optimal_split(R0[0], R0[1])\n",
    "s1"
   ]
  },
  {
   "cell_type": "code",
   "execution_count": 8,
   "id": "e4d8d113-f465-47d9-b01b-9f797173926e",
   "metadata": {},
   "outputs": [
    {
     "data": {
      "text/plain": [
       "(array([[ 1,  2],\n",
       "        [ 3,  3],\n",
       "        [-1,  2],\n",
       "        [ 6,  1],\n",
       "        [ 2,  2],\n",
       "        [ 3, -1]]),\n",
       " [0, 0, 1, 1, 1, 2])"
      ]
     },
     "execution_count": 8,
     "metadata": {},
     "output_type": "execute_result"
    }
   ],
   "source": [
    "L1, R1 = compute_nodes(s1[0][0], data, labels)\n",
    "\n",
    "L1"
   ]
  },
  {
   "cell_type": "code",
   "execution_count": 9,
   "id": "6e523945-5591-44ee-b2b6-4adb0fa233bf",
   "metadata": {},
   "outputs": [
    {
     "data": {
      "text/plain": [
       "(array([[3, 4]]), [2])"
      ]
     },
     "execution_count": 9,
     "metadata": {},
     "output_type": "execute_result"
    }
   ],
   "source": [
    "R1"
   ]
  },
  {
   "cell_type": "code",
   "execution_count": 10,
   "id": "ce493d49-ca0e-40d9-af31-c3d41bec4a38",
   "metadata": {},
   "outputs": [
    {
     "data": {
      "text/plain": [
       "[[(1, 0.5), 0.39999999999999997],\n",
       " [(1, 0.5), 0.39999999999999997],\n",
       " [(1, 0.0), 0.39999999999999997],\n",
       " [(1, 0.5), 0.39999999999999997],\n",
       " [(1, 2.5), 0.46666666666666673],\n",
       " [(1, 2.5), 0.46666666666666673],\n",
       " [(1, 2.5), 0.46666666666666673],\n",
       " [(1, 1.5), 0.5],\n",
       " [(1, 1.5), 0.5],\n",
       " [(1, 1.5), 0.5],\n",
       " [(0, 0.0), 0.5333333333333333],\n",
       " [(0, 3.5), 0.5333333333333333],\n",
       " [(0, 4.5), 0.5333333333333333],\n",
       " [(0, 0.5), 0.5333333333333333],\n",
       " [(0, 4.0), 0.5333333333333333],\n",
       " [(0, 4.5), 0.5333333333333333],\n",
       " [(0, 2.5), 0.5555555555555556],\n",
       " [(0, 2.5), 0.5555555555555556],\n",
       " [(0, 2.5), 0.5555555555555556],\n",
       " [(0, 1.5), 0.5833333333333334]]"
      ]
     },
     "execution_count": 10,
     "metadata": {},
     "output_type": "execute_result"
    }
   ],
   "source": [
    "s2 = optimal_split(L1[0], L1[1])\n",
    "s2"
   ]
  },
  {
   "cell_type": "code",
   "execution_count": 15,
   "id": "e0a250a1-206c-4366-aa0f-e162d1a75b00",
   "metadata": {},
   "outputs": [
    {
     "data": {
      "text/plain": [
       "array([1])"
      ]
     },
     "execution_count": 15,
     "metadata": {},
     "output_type": "execute_result"
    }
   ],
   "source": [
    "from sklearn.tree import DecisionTreeClassifier\n",
    "\n",
    "T = DecisionTreeClassifier()\n",
    "\n",
    "T.fit(data, labels)\n",
    "T.predict([[0,1]])"
   ]
  },
  {
   "cell_type": "code",
   "execution_count": null,
   "id": "63599d20-3ecf-455d-a8cd-e8be27f2f6ba",
   "metadata": {},
   "outputs": [],
   "source": []
  }
 ],
 "metadata": {
  "kernelspec": {
   "display_name": "Python 3 (ipykernel)",
   "language": "python",
   "name": "python3"
  },
  "language_info": {
   "codemirror_mode": {
    "name": "ipython",
    "version": 3
   },
   "file_extension": ".py",
   "mimetype": "text/x-python",
   "name": "python",
   "nbconvert_exporter": "python",
   "pygments_lexer": "ipython3",
   "version": "3.9.7"
  }
 },
 "nbformat": 4,
 "nbformat_minor": 5
}
