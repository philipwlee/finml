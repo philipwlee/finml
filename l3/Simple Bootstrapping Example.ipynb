{
 "cells": [
  {
   "cell_type": "code",
   "execution_count": 1,
   "metadata": {
    "ExecuteTime": {
     "end_time": "2020-01-27T00:29:43.729242Z",
     "start_time": "2020-01-27T00:29:43.323224Z"
    }
   },
   "outputs": [],
   "source": [
    "import matplotlib.pyplot as plt\n",
    "import numpy as np\n",
    "%matplotlib inline"
   ]
  },
  {
   "cell_type": "code",
   "execution_count": 2,
   "metadata": {
    "ExecuteTime": {
     "end_time": "2020-01-27T00:29:45.287679Z",
     "start_time": "2020-01-27T00:29:45.283678Z"
    }
   },
   "outputs": [],
   "source": [
    "X = np.array([-0.2322,0.0603,1.9935,0.5873,0.4529,-1.5701,-0.7856,-0.7313,-0.6444,2.2676])"
   ]
  },
  {
   "cell_type": "code",
   "execution_count": 3,
   "metadata": {
    "ExecuteTime": {
     "end_time": "2020-01-27T00:29:46.591316Z",
     "start_time": "2020-01-27T00:29:46.586273Z"
    }
   },
   "outputs": [],
   "source": [
    "X.sort()"
   ]
  },
  {
   "cell_type": "code",
   "execution_count": 4,
   "metadata": {
    "ExecuteTime": {
     "end_time": "2020-01-27T00:29:47.728275Z",
     "start_time": "2020-01-27T00:29:47.721272Z"
    }
   },
   "outputs": [
    {
     "data": {
      "text/plain": [
       "array([-1.5701, -0.7856, -0.7313, -0.6444, -0.2322,  0.0603,  0.4529,\n",
       "        0.5873,  1.9935,  2.2676])"
      ]
     },
     "execution_count": 4,
     "metadata": {},
     "output_type": "execute_result"
    }
   ],
   "source": [
    "X"
   ]
  },
  {
   "cell_type": "code",
   "execution_count": 82,
   "metadata": {
    "ExecuteTime": {
     "end_time": "2020-01-27T00:29:53.400258Z",
     "start_time": "2020-01-27T00:29:53.396259Z"
    }
   },
   "outputs": [],
   "source": [
    "p = np.linspace(-3,3,300)"
   ]
  },
  {
   "cell_type": "code",
   "execution_count": 92,
   "metadata": {},
   "outputs": [],
   "source": [
    "def psi(x):\n",
    "    \n",
    "    u = []\n",
    "    for z in x:\n",
    "        for i in range(10):\n",
    "            if z < X[i]:\n",
    "                u.append(i/10.0)\n",
    "                break\n",
    "            elif z >= X[9]:\n",
    "                u.append(1.0)\n",
    "                break\n",
    "            else:\n",
    "                continue\n",
    "         \n",
    "    return u"
   ]
  },
  {
   "cell_type": "code",
   "execution_count": 93,
   "metadata": {},
   "outputs": [
    {
     "data": {
      "text/plain": [
       "300"
      ]
     },
     "execution_count": 93,
     "metadata": {},
     "output_type": "execute_result"
    }
   ],
   "source": [
    "len(psi(p))"
   ]
  },
  {
   "cell_type": "code",
   "execution_count": 94,
   "metadata": {},
   "outputs": [
    {
     "data": {
      "image/png": "[encoded data removed]",
      "text/plain": [
       "<Figure size 432x288 with 1 Axes>"
      ]
     },
     "metadata": {
      "needs_background": "light"
     },
     "output_type": "display_data"
    }
   ],
   "source": [
    "plt.plot(p,psi(p));"
   ]
  },
  {
   "cell_type": "code",
   "execution_count": 86,
   "metadata": {
    "ExecuteTime": {
     "end_time": "2020-01-27T00:30:00.531751Z",
     "start_time": "2020-01-27T00:30:00.337235Z"
    }
   },
   "outputs": [
    {
     "data": {
      "image/png": "[encoded data removed]",
      "text/plain": [
       "<Figure size 432x288 with 1 Axes>"
      ]
     },
     "metadata": {
      "needs_background": "light"
     },
     "output_type": "display_data"
    }
   ],
   "source": [
    "plt.plot(psi(p),p);"
   ]
  },
  {
   "cell_type": "code",
   "execution_count": 95,
   "metadata": {
    "ExecuteTime": {
     "end_time": "2020-01-27T00:30:06.275322Z",
     "start_time": "2020-01-27T00:30:06.270319Z"
    }
   },
   "outputs": [],
   "source": [
    "def psi_inv(x):\n",
    "    for i in range(10):\n",
    "        if x < (i+1)/10:\n",
    "            return X[i]\n",
    "    "
   ]
  },
  {
   "cell_type": "code",
   "execution_count": 99,
   "metadata": {
    "ExecuteTime": {
     "end_time": "2020-01-27T00:30:09.053793Z",
     "start_time": "2020-01-27T00:30:09.047786Z"
    }
   },
   "outputs": [],
   "source": [
    "p_1 = np.random.uniform(0,1,10)"
   ]
  },
  {
   "cell_type": "code",
   "execution_count": 100,
   "metadata": {
    "ExecuteTime": {
     "end_time": "2020-01-27T00:30:15.980784Z",
     "start_time": "2020-01-27T00:30:15.976787Z"
    }
   },
   "outputs": [],
   "source": [
    "sample = [psi_inv(t) for t in p_1]"
   ]
  },
  {
   "cell_type": "code",
   "execution_count": 101,
   "metadata": {
    "ExecuteTime": {
     "end_time": "2020-01-27T00:30:20.838862Z",
     "start_time": "2020-01-27T00:30:20.833863Z"
    }
   },
   "outputs": [
    {
     "data": {
      "text/plain": [
       "[-1.5701,\n",
       " 2.2676,\n",
       " -1.5701,\n",
       " 0.5873,\n",
       " 0.5873,\n",
       " 0.5873,\n",
       " 0.5873,\n",
       " 0.4529,\n",
       " -0.7313,\n",
       " 2.2676]"
      ]
     },
     "execution_count": 101,
     "metadata": {},
     "output_type": "execute_result"
    }
   ],
   "source": [
    "sample"
   ]
  },
  {
   "cell_type": "code",
   "execution_count": 107,
   "metadata": {},
   "outputs": [
    {
     "data": {
      "text/plain": [
       "array([ 0.4529,  0.4529,  2.2676,  2.2676,  2.2676, -0.2322,  0.5873,\n",
       "        2.2676, -0.7313,  1.9935])"
      ]
     },
     "execution_count": 107,
     "metadata": {},
     "output_type": "execute_result"
    }
   ],
   "source": [
    "X[np.random.choice(10,10)]"
   ]
  },
  {
   "cell_type": "code",
   "execution_count": null,
   "metadata": {},
   "outputs": [],
   "source": []
  },
  {
   "cell_type": "code",
   "execution_count": null,
   "metadata": {},
   "outputs": [],
   "source": []
  }
 ],
 "metadata": {
  "kernelspec": {
   "display_name": "Python 3",
   "language": "python",
   "name": "python3"
  },
  "language_info": {
   "codemirror_mode": {
    "name": "ipython",
    "version": 3
   },
   "file_extension": ".py",
   "mimetype": "text/x-python",
   "name": "python",
   "nbconvert_exporter": "python",
   "pygments_lexer": "ipython3",
   "version": "3.9.6"
  },
  "latex_envs": {
   "LaTeX_envs_menu_present": true,
   "autoclose": false,
   "autocomplete": true,
   "bibliofile": "biblio.bib",
   "cite_by": "apalike",
   "current_citInitial": 1,
   "eqLabelWithNumbers": true,
   "eqNumInitial": 1,
   "hotkeys": {
    "equation": "Ctrl-E",
    "itemize": "Ctrl-I"
   },
   "labels_anchors": false,
   "latex_user_defs": false,
   "report_style_numbering": false,
   "user_envs_cfg": false
  }
 },
 "nbformat": 4,
 "nbformat_minor": 4
}
