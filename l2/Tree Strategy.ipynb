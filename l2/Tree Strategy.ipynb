{
 "cells": [
  {
   "cell_type": "markdown",
   "metadata": {},
   "source": [
    "## Imports"
   ]
  },
  {
   "cell_type": "code",
   "execution_count": 1,
   "metadata": {},
   "outputs": [],
   "source": [
    "import pandas as pd\n",
    "import numpy as np\n",
    "import matplotlib.pyplot as plt\n",
    "%matplotlib inline\n",
    "from sklearn.metrics import accuracy_score, confusion_matrix\n",
    "pd.set_option('use_inf_as_na', True)\n",
    "from collections import Counter"
   ]
  },
  {
   "cell_type": "markdown",
   "metadata": {},
   "source": [
    "## Loading the Data Set (you need to put in the file where you have stored the data)"
   ]
  },
  {
   "cell_type": "code",
   "execution_count": 2,
   "metadata": {},
   "outputs": [],
   "source": [
    "raw_data = pd.read_pickle(r'dataset.pkl')"
   ]
  },
  {
   "cell_type": "markdown",
   "metadata": {},
   "source": [
    "Dataset survivorship bias (the companies in this set all exist today thus eliminating the ones that blew up).\n",
    "\n",
    "Look-ahead bias (IDK)?"
   ]
  },
  {
   "cell_type": "code",
   "execution_count": 3,
   "metadata": {},
   "outputs": [
    {
     "data": {
      "text/html": [
       "<div>\n",
       "<style scoped>\n",
       "    .dataframe tbody tr th:only-of-type {\n",
       "        vertical-align: middle;\n",
       "    }\n",
       "\n",
       "    .dataframe tbody tr th {\n",
       "        vertical-align: top;\n",
       "    }\n",
       "\n",
       "    .dataframe thead th {\n",
       "        text-align: right;\n",
       "    }\n",
       "</style>\n",
       "<table border=\"1\" class=\"dataframe\">\n",
       "  <thead>\n",
       "    <tr style=\"text-align: right;\">\n",
       "      <th></th>\n",
       "      <th></th>\n",
       "      <th>actq</th>\n",
       "      <th>apq</th>\n",
       "      <th>atq</th>\n",
       "      <th>ceqq</th>\n",
       "      <th>cheq</th>\n",
       "      <th>cogsq</th>\n",
       "      <th>csh12q</th>\n",
       "      <th>cshfdq</th>\n",
       "      <th>cshiq</th>\n",
       "      <th>cshopq</th>\n",
       "      <th>...</th>\n",
       "      <th>sector_code_815.0</th>\n",
       "      <th>sector_code_817.0</th>\n",
       "      <th>sector_code_822.0</th>\n",
       "      <th>sector_code_823.0</th>\n",
       "      <th>sector_code_825.0</th>\n",
       "      <th>sector_code_830.0</th>\n",
       "      <th>sector_code_835.0</th>\n",
       "      <th>sector_code_840.0</th>\n",
       "      <th>sector_code_845.0</th>\n",
       "      <th>sector_code_850.0</th>\n",
       "    </tr>\n",
       "    <tr>\n",
       "      <th>date</th>\n",
       "      <th>ticker</th>\n",
       "      <th></th>\n",
       "      <th></th>\n",
       "      <th></th>\n",
       "      <th></th>\n",
       "      <th></th>\n",
       "      <th></th>\n",
       "      <th></th>\n",
       "      <th></th>\n",
       "      <th></th>\n",
       "      <th></th>\n",
       "      <th></th>\n",
       "      <th></th>\n",
       "      <th></th>\n",
       "      <th></th>\n",
       "      <th></th>\n",
       "      <th></th>\n",
       "      <th></th>\n",
       "      <th></th>\n",
       "      <th></th>\n",
       "      <th></th>\n",
       "      <th></th>\n",
       "    </tr>\n",
       "  </thead>\n",
       "  <tbody>\n",
       "    <tr>\n",
       "      <th>2000-02-01</th>\n",
       "      <th>LLB</th>\n",
       "      <td>3.540</td>\n",
       "      <td>0.143</td>\n",
       "      <td>7.668</td>\n",
       "      <td>6.732</td>\n",
       "      <td>2.553</td>\n",
       "      <td>0.458</td>\n",
       "      <td>6.3910</td>\n",
       "      <td>6.391</td>\n",
       "      <td>6.989</td>\n",
       "      <td>0.0</td>\n",
       "      <td>...</td>\n",
       "      <td>0</td>\n",
       "      <td>0</td>\n",
       "      <td>0</td>\n",
       "      <td>0</td>\n",
       "      <td>0</td>\n",
       "      <td>0</td>\n",
       "      <td>0</td>\n",
       "      <td>0</td>\n",
       "      <td>0</td>\n",
       "      <td>0</td>\n",
       "    </tr>\n",
       "    <tr>\n",
       "      <th>2000-02-03</th>\n",
       "      <th>MYR</th>\n",
       "      <td>107.661</td>\n",
       "      <td>24.387</td>\n",
       "      <td>220.463</td>\n",
       "      <td>136.555</td>\n",
       "      <td>1.049</td>\n",
       "      <td>36.883</td>\n",
       "      <td>25.5360</td>\n",
       "      <td>22.082</td>\n",
       "      <td>28.458</td>\n",
       "      <td>0.0</td>\n",
       "      <td>...</td>\n",
       "      <td>0</td>\n",
       "      <td>0</td>\n",
       "      <td>0</td>\n",
       "      <td>0</td>\n",
       "      <td>0</td>\n",
       "      <td>0</td>\n",
       "      <td>0</td>\n",
       "      <td>0</td>\n",
       "      <td>0</td>\n",
       "      <td>0</td>\n",
       "    </tr>\n",
       "    <tr>\n",
       "      <th rowspan=\"2\" valign=\"top\">2000-02-08</th>\n",
       "      <th>LZB</th>\n",
       "      <td>447.719</td>\n",
       "      <td>57.893</td>\n",
       "      <td>740.905</td>\n",
       "      <td>460.612</td>\n",
       "      <td>16.531</td>\n",
       "      <td>274.525</td>\n",
       "      <td>52.2660</td>\n",
       "      <td>52.274</td>\n",
       "      <td>52.544</td>\n",
       "      <td>0.0</td>\n",
       "      <td>...</td>\n",
       "      <td>0</td>\n",
       "      <td>0</td>\n",
       "      <td>0</td>\n",
       "      <td>0</td>\n",
       "      <td>0</td>\n",
       "      <td>0</td>\n",
       "      <td>0</td>\n",
       "      <td>0</td>\n",
       "      <td>0</td>\n",
       "      <td>0</td>\n",
       "    </tr>\n",
       "    <tr>\n",
       "      <th>SJM</th>\n",
       "      <td>234.415</td>\n",
       "      <td>33.821</td>\n",
       "      <td>488.136</td>\n",
       "      <td>322.432</td>\n",
       "      <td>26.054</td>\n",
       "      <td>91.172</td>\n",
       "      <td>28.8808</td>\n",
       "      <td>28.603</td>\n",
       "      <td>32.425</td>\n",
       "      <td>0.0</td>\n",
       "      <td>...</td>\n",
       "      <td>0</td>\n",
       "      <td>0</td>\n",
       "      <td>0</td>\n",
       "      <td>0</td>\n",
       "      <td>0</td>\n",
       "      <td>0</td>\n",
       "      <td>0</td>\n",
       "      <td>0</td>\n",
       "      <td>0</td>\n",
       "      <td>0</td>\n",
       "    </tr>\n",
       "    <tr>\n",
       "      <th>2000-02-09</th>\n",
       "      <th>CSCO</th>\n",
       "      <td>7722.000</td>\n",
       "      <td>482.000</td>\n",
       "      <td>21391.000</td>\n",
       "      <td>16523.000</td>\n",
       "      <td>3968.000</td>\n",
       "      <td>1422.000</td>\n",
       "      <td>3374.1250</td>\n",
       "      <td>3648.000</td>\n",
       "      <td>3445.000</td>\n",
       "      <td>0.0</td>\n",
       "      <td>...</td>\n",
       "      <td>0</td>\n",
       "      <td>0</td>\n",
       "      <td>0</td>\n",
       "      <td>0</td>\n",
       "      <td>0</td>\n",
       "      <td>0</td>\n",
       "      <td>0</td>\n",
       "      <td>0</td>\n",
       "      <td>0</td>\n",
       "      <td>0</td>\n",
       "    </tr>\n",
       "    <tr>\n",
       "      <th>...</th>\n",
       "      <th>...</th>\n",
       "      <td>...</td>\n",
       "      <td>...</td>\n",
       "      <td>...</td>\n",
       "      <td>...</td>\n",
       "      <td>...</td>\n",
       "      <td>...</td>\n",
       "      <td>...</td>\n",
       "      <td>...</td>\n",
       "      <td>...</td>\n",
       "      <td>...</td>\n",
       "      <td>...</td>\n",
       "      <td>...</td>\n",
       "      <td>...</td>\n",
       "      <td>...</td>\n",
       "      <td>...</td>\n",
       "      <td>...</td>\n",
       "      <td>...</td>\n",
       "      <td>...</td>\n",
       "      <td>...</td>\n",
       "      <td>...</td>\n",
       "      <td>...</td>\n",
       "    </tr>\n",
       "    <tr>\n",
       "      <th rowspan=\"5\" valign=\"top\">2018-12-31</th>\n",
       "      <th>ELLO</th>\n",
       "      <td>77.786</td>\n",
       "      <td>1.907</td>\n",
       "      <td>255.123</td>\n",
       "      <td>90.949</td>\n",
       "      <td>61.530</td>\n",
       "      <td>2.272</td>\n",
       "      <td>10.9220</td>\n",
       "      <td>10.676</td>\n",
       "      <td>NaN</td>\n",
       "      <td>0.0</td>\n",
       "      <td>...</td>\n",
       "      <td>0</td>\n",
       "      <td>0</td>\n",
       "      <td>0</td>\n",
       "      <td>0</td>\n",
       "      <td>0</td>\n",
       "      <td>0</td>\n",
       "      <td>0</td>\n",
       "      <td>0</td>\n",
       "      <td>0</td>\n",
       "      <td>0</td>\n",
       "    </tr>\n",
       "    <tr>\n",
       "      <th>MFCB</th>\n",
       "      <td>84.040</td>\n",
       "      <td>20.586</td>\n",
       "      <td>252.126</td>\n",
       "      <td>186.153</td>\n",
       "      <td>59.330</td>\n",
       "      <td>76.382</td>\n",
       "      <td>12.5350</td>\n",
       "      <td>12.535</td>\n",
       "      <td>12.600</td>\n",
       "      <td>0.0</td>\n",
       "      <td>...</td>\n",
       "      <td>0</td>\n",
       "      <td>0</td>\n",
       "      <td>1</td>\n",
       "      <td>0</td>\n",
       "      <td>0</td>\n",
       "      <td>0</td>\n",
       "      <td>0</td>\n",
       "      <td>0</td>\n",
       "      <td>0</td>\n",
       "      <td>0</td>\n",
       "    </tr>\n",
       "    <tr>\n",
       "      <th>MFCB</th>\n",
       "      <td>79.628</td>\n",
       "      <td>16.437</td>\n",
       "      <td>242.757</td>\n",
       "      <td>193.929</td>\n",
       "      <td>56.640</td>\n",
       "      <td>4.650</td>\n",
       "      <td>12.5350</td>\n",
       "      <td>12.535</td>\n",
       "      <td>12.600</td>\n",
       "      <td>0.0</td>\n",
       "      <td>...</td>\n",
       "      <td>0</td>\n",
       "      <td>0</td>\n",
       "      <td>1</td>\n",
       "      <td>0</td>\n",
       "      <td>0</td>\n",
       "      <td>0</td>\n",
       "      <td>0</td>\n",
       "      <td>0</td>\n",
       "      <td>0</td>\n",
       "      <td>0</td>\n",
       "    </tr>\n",
       "    <tr>\n",
       "      <th>PETZ</th>\n",
       "      <td>13.670</td>\n",
       "      <td>6.395</td>\n",
       "      <td>18.833</td>\n",
       "      <td>6.459</td>\n",
       "      <td>2.524</td>\n",
       "      <td>12.253</td>\n",
       "      <td>9.3245</td>\n",
       "      <td>9.424</td>\n",
       "      <td>9.424</td>\n",
       "      <td>0.0</td>\n",
       "      <td>...</td>\n",
       "      <td>0</td>\n",
       "      <td>0</td>\n",
       "      <td>0</td>\n",
       "      <td>0</td>\n",
       "      <td>0</td>\n",
       "      <td>0</td>\n",
       "      <td>0</td>\n",
       "      <td>0</td>\n",
       "      <td>0</td>\n",
       "      <td>0</td>\n",
       "    </tr>\n",
       "    <tr>\n",
       "      <th>SGOC</th>\n",
       "      <td>15.429</td>\n",
       "      <td>0.088</td>\n",
       "      <td>156.187</td>\n",
       "      <td>98.344</td>\n",
       "      <td>5.608</td>\n",
       "      <td>0.712</td>\n",
       "      <td>15.6510</td>\n",
       "      <td>18.931</td>\n",
       "      <td>24.844</td>\n",
       "      <td>0.0</td>\n",
       "      <td>...</td>\n",
       "      <td>0</td>\n",
       "      <td>0</td>\n",
       "      <td>0</td>\n",
       "      <td>0</td>\n",
       "      <td>0</td>\n",
       "      <td>0</td>\n",
       "      <td>0</td>\n",
       "      <td>0</td>\n",
       "      <td>0</td>\n",
       "      <td>0</td>\n",
       "    </tr>\n",
       "  </tbody>\n",
       "</table>\n",
       "<p>294412 rows × 731 columns</p>\n",
       "</div>"
      ],
      "text/plain": [
       "                       actq      apq        atq       ceqq      cheq  \\\n",
       "date       ticker                                                      \n",
       "2000-02-01 LLB        3.540    0.143      7.668      6.732     2.553   \n",
       "2000-02-03 MYR      107.661   24.387    220.463    136.555     1.049   \n",
       "2000-02-08 LZB      447.719   57.893    740.905    460.612    16.531   \n",
       "           SJM      234.415   33.821    488.136    322.432    26.054   \n",
       "2000-02-09 CSCO    7722.000  482.000  21391.000  16523.000  3968.000   \n",
       "...                     ...      ...        ...        ...       ...   \n",
       "2018-12-31 ELLO      77.786    1.907    255.123     90.949    61.530   \n",
       "           MFCB      84.040   20.586    252.126    186.153    59.330   \n",
       "           MFCB      79.628   16.437    242.757    193.929    56.640   \n",
       "           PETZ      13.670    6.395     18.833      6.459     2.524   \n",
       "           SGOC      15.429    0.088    156.187     98.344     5.608   \n",
       "\n",
       "                      cogsq     csh12q    cshfdq     cshiq  cshopq  ...  \\\n",
       "date       ticker                                                   ...   \n",
       "2000-02-01 LLB        0.458     6.3910     6.391     6.989     0.0  ...   \n",
       "2000-02-03 MYR       36.883    25.5360    22.082    28.458     0.0  ...   \n",
       "2000-02-08 LZB      274.525    52.2660    52.274    52.544     0.0  ...   \n",
       "           SJM       91.172    28.8808    28.603    32.425     0.0  ...   \n",
       "2000-02-09 CSCO    1422.000  3374.1250  3648.000  3445.000     0.0  ...   \n",
       "...                     ...        ...       ...       ...     ...  ...   \n",
       "2018-12-31 ELLO       2.272    10.9220    10.676       NaN     0.0  ...   \n",
       "           MFCB      76.382    12.5350    12.535    12.600     0.0  ...   \n",
       "           MFCB       4.650    12.5350    12.535    12.600     0.0  ...   \n",
       "           PETZ      12.253     9.3245     9.424     9.424     0.0  ...   \n",
       "           SGOC       0.712    15.6510    18.931    24.844     0.0  ...   \n",
       "\n",
       "                   sector_code_815.0  sector_code_817.0  sector_code_822.0  \\\n",
       "date       ticker                                                            \n",
       "2000-02-01 LLB                     0                  0                  0   \n",
       "2000-02-03 MYR                     0                  0                  0   \n",
       "2000-02-08 LZB                     0                  0                  0   \n",
       "           SJM                     0                  0                  0   \n",
       "2000-02-09 CSCO                    0                  0                  0   \n",
       "...                              ...                ...                ...   \n",
       "2018-12-31 ELLO                    0                  0                  0   \n",
       "           MFCB                    0                  0                  1   \n",
       "           MFCB                    0                  0                  1   \n",
       "           PETZ                    0                  0                  0   \n",
       "           SGOC                    0                  0                  0   \n",
       "\n",
       "                   sector_code_823.0  sector_code_825.0  sector_code_830.0  \\\n",
       "date       ticker                                                            \n",
       "2000-02-01 LLB                     0                  0                  0   \n",
       "2000-02-03 MYR                     0                  0                  0   \n",
       "2000-02-08 LZB                     0                  0                  0   \n",
       "           SJM                     0                  0                  0   \n",
       "2000-02-09 CSCO                    0                  0                  0   \n",
       "...                              ...                ...                ...   \n",
       "2018-12-31 ELLO                    0                  0                  0   \n",
       "           MFCB                    0                  0                  0   \n",
       "           MFCB                    0                  0                  0   \n",
       "           PETZ                    0                  0                  0   \n",
       "           SGOC                    0                  0                  0   \n",
       "\n",
       "                   sector_code_835.0  sector_code_840.0  sector_code_845.0  \\\n",
       "date       ticker                                                            \n",
       "2000-02-01 LLB                     0                  0                  0   \n",
       "2000-02-03 MYR                     0                  0                  0   \n",
       "2000-02-08 LZB                     0                  0                  0   \n",
       "           SJM                     0                  0                  0   \n",
       "2000-02-09 CSCO                    0                  0                  0   \n",
       "...                              ...                ...                ...   \n",
       "2018-12-31 ELLO                    0                  0                  0   \n",
       "           MFCB                    0                  0                  0   \n",
       "           MFCB                    0                  0                  0   \n",
       "           PETZ                    0                  0                  0   \n",
       "           SGOC                    0                  0                  0   \n",
       "\n",
       "                   sector_code_850.0  \n",
       "date       ticker                     \n",
       "2000-02-01 LLB                     0  \n",
       "2000-02-03 MYR                     0  \n",
       "2000-02-08 LZB                     0  \n",
       "           SJM                     0  \n",
       "2000-02-09 CSCO                    0  \n",
       "...                              ...  \n",
       "2018-12-31 ELLO                    0  \n",
       "           MFCB                    0  \n",
       "           MFCB                    0  \n",
       "           PETZ                    0  \n",
       "           SGOC                    0  \n",
       "\n",
       "[294412 rows x 731 columns]"
      ]
     },
     "execution_count": 3,
     "metadata": {},
     "output_type": "execute_result"
    }
   ],
   "source": [
    "raw_data"
   ]
  },
  {
   "cell_type": "markdown",
   "metadata": {},
   "source": [
    "## Restricting to Companies with Market Cap > 1 Billion"
   ]
  },
  {
   "cell_type": "code",
   "execution_count": 4,
   "metadata": {},
   "outputs": [],
   "source": [
    "data = raw_data[raw_data['market_cap'] > 1000.0]"
   ]
  },
  {
   "cell_type": "markdown",
   "metadata": {},
   "source": [
    "## The Total Number of Companies w/ Market Cap > 1 Billion that appear during our time horizon"
   ]
  },
  {
   "cell_type": "code",
   "execution_count": 5,
   "metadata": {},
   "outputs": [
    {
     "data": {
      "text/plain": [
       "4076"
      ]
     },
     "execution_count": 5,
     "metadata": {},
     "output_type": "execute_result"
    }
   ],
   "source": [
    "len(data.index.get_level_values(1).unique())"
   ]
  },
  {
   "cell_type": "markdown",
   "metadata": {},
   "source": [
    "## Filling in Missing Values"
   ]
  },
  {
   "cell_type": "code",
   "execution_count": 6,
   "metadata": {
    "scrolled": true
   },
   "outputs": [],
   "source": [
    "data = data.copy()\n",
    "data.fillna(0.0,inplace=True)"
   ]
  },
  {
   "cell_type": "markdown",
   "metadata": {},
   "source": [
    "#### We label a Data Point +1 if the difference between the return on the SPY and the return on the stock exceeds 1.0% during the earnings period, -1 if it is < -1.0% and 0 if it is between -1% and +1%. The function below turns the return differences into labels"
   ]
  },
  {
   "cell_type": "code",
   "execution_count": 7,
   "metadata": {},
   "outputs": [],
   "source": [
    "def f(x):\n",
    "    if x > 0.008:\n",
    "        return 1\n",
    "    elif x < -0.008:\n",
    "        return -1\n",
    "    else:\n",
    "    \n",
    "        return 0"
   ]
  },
  {
   "cell_type": "markdown",
   "metadata": {},
   "source": [
    "#### Applying the function to the column of relative returns and making a column of labels"
   ]
  },
  {
   "cell_type": "code",
   "execution_count": 8,
   "metadata": {
    "scrolled": true
   },
   "outputs": [],
   "source": [
    "data = data.copy()\n",
    "data['rel_performance'] = data['pred_rel_return'].apply(f)"
   ]
  },
  {
   "cell_type": "code",
   "execution_count": null,
   "metadata": {},
   "outputs": [],
   "source": []
  },
  {
   "cell_type": "markdown",
   "metadata": {},
   "source": [
    "#### This is the column of labels"
   ]
  },
  {
   "cell_type": "code",
   "execution_count": 9,
   "metadata": {
    "scrolled": true
   },
   "outputs": [
    {
     "data": {
      "text/plain": [
       "date        ticker\n",
       "2000-02-09  CSCO     -1\n",
       "            ROP       1\n",
       "2000-02-10  CMOS      1\n",
       "2000-02-11  DELL      1\n",
       "2000-02-15  VAL       1\n",
       "                     ..\n",
       "2018-12-21  NKE       0\n",
       "            SAFM      0\n",
       "            SCHL      0\n",
       "            WBA       0\n",
       "2018-12-24  KMX       0\n",
       "Name: rel_performance, Length: 111468, dtype: int64"
      ]
     },
     "execution_count": 9,
     "metadata": {},
     "output_type": "execute_result"
    }
   ],
   "source": [
    "data['rel_performance']"
   ]
  },
  {
   "cell_type": "markdown",
   "metadata": {},
   "source": [
    "### Make date the index, remember that the date is the first business day after Earnings Release"
   ]
  },
  {
   "cell_type": "code",
   "execution_count": 10,
   "metadata": {},
   "outputs": [],
   "source": [
    "data.reset_index(inplace=True)\n",
    "data.set_index('date',inplace=True)"
   ]
  },
  {
   "cell_type": "markdown",
   "metadata": {},
   "source": [
    "### This what the data set looks like now"
   ]
  },
  {
   "cell_type": "code",
   "execution_count": 11,
   "metadata": {},
   "outputs": [
    {
     "data": {
      "text/html": [
       "<div>\n",
       "<style scoped>\n",
       "    .dataframe tbody tr th:only-of-type {\n",
       "        vertical-align: middle;\n",
       "    }\n",
       "\n",
       "    .dataframe tbody tr th {\n",
       "        vertical-align: top;\n",
       "    }\n",
       "\n",
       "    .dataframe thead th {\n",
       "        text-align: right;\n",
       "    }\n",
       "</style>\n",
       "<table border=\"1\" class=\"dataframe\">\n",
       "  <thead>\n",
       "    <tr style=\"text-align: right;\">\n",
       "      <th></th>\n",
       "      <th>ticker</th>\n",
       "      <th>actq</th>\n",
       "      <th>apq</th>\n",
       "      <th>atq</th>\n",
       "      <th>ceqq</th>\n",
       "      <th>cheq</th>\n",
       "      <th>cogsq</th>\n",
       "      <th>csh12q</th>\n",
       "      <th>cshfdq</th>\n",
       "      <th>cshiq</th>\n",
       "      <th>...</th>\n",
       "      <th>sector_code_817.0</th>\n",
       "      <th>sector_code_822.0</th>\n",
       "      <th>sector_code_823.0</th>\n",
       "      <th>sector_code_825.0</th>\n",
       "      <th>sector_code_830.0</th>\n",
       "      <th>sector_code_835.0</th>\n",
       "      <th>sector_code_840.0</th>\n",
       "      <th>sector_code_845.0</th>\n",
       "      <th>sector_code_850.0</th>\n",
       "      <th>rel_performance</th>\n",
       "    </tr>\n",
       "    <tr>\n",
       "      <th>date</th>\n",
       "      <th></th>\n",
       "      <th></th>\n",
       "      <th></th>\n",
       "      <th></th>\n",
       "      <th></th>\n",
       "      <th></th>\n",
       "      <th></th>\n",
       "      <th></th>\n",
       "      <th></th>\n",
       "      <th></th>\n",
       "      <th></th>\n",
       "      <th></th>\n",
       "      <th></th>\n",
       "      <th></th>\n",
       "      <th></th>\n",
       "      <th></th>\n",
       "      <th></th>\n",
       "      <th></th>\n",
       "      <th></th>\n",
       "      <th></th>\n",
       "      <th></th>\n",
       "    </tr>\n",
       "  </thead>\n",
       "  <tbody>\n",
       "    <tr>\n",
       "      <th>2000-02-09</th>\n",
       "      <td>CSCO</td>\n",
       "      <td>7722.000</td>\n",
       "      <td>482.000</td>\n",
       "      <td>21391.000</td>\n",
       "      <td>16523.000</td>\n",
       "      <td>3968.000</td>\n",
       "      <td>1422.000</td>\n",
       "      <td>3374.1250</td>\n",
       "      <td>3648.000</td>\n",
       "      <td>3445.000</td>\n",
       "      <td>...</td>\n",
       "      <td>0</td>\n",
       "      <td>0</td>\n",
       "      <td>0</td>\n",
       "      <td>0</td>\n",
       "      <td>0</td>\n",
       "      <td>0</td>\n",
       "      <td>0</td>\n",
       "      <td>0</td>\n",
       "      <td>0</td>\n",
       "      <td>-1</td>\n",
       "    </tr>\n",
       "    <tr>\n",
       "      <th>2000-02-09</th>\n",
       "      <td>ROP</td>\n",
       "      <td>172.725</td>\n",
       "      <td>19.662</td>\n",
       "      <td>474.649</td>\n",
       "      <td>239.432</td>\n",
       "      <td>3.198</td>\n",
       "      <td>47.634</td>\n",
       "      <td>30.2688</td>\n",
       "      <td>31.217</td>\n",
       "      <td>0.000</td>\n",
       "      <td>...</td>\n",
       "      <td>0</td>\n",
       "      <td>0</td>\n",
       "      <td>0</td>\n",
       "      <td>0</td>\n",
       "      <td>0</td>\n",
       "      <td>0</td>\n",
       "      <td>0</td>\n",
       "      <td>0</td>\n",
       "      <td>0</td>\n",
       "      <td>1</td>\n",
       "    </tr>\n",
       "    <tr>\n",
       "      <th>2000-02-10</th>\n",
       "      <td>CMOS</td>\n",
       "      <td>240.767</td>\n",
       "      <td>27.044</td>\n",
       "      <td>376.536</td>\n",
       "      <td>209.411</td>\n",
       "      <td>68.625</td>\n",
       "      <td>43.023</td>\n",
       "      <td>21.4360</td>\n",
       "      <td>23.753</td>\n",
       "      <td>0.000</td>\n",
       "      <td>...</td>\n",
       "      <td>0</td>\n",
       "      <td>0</td>\n",
       "      <td>0</td>\n",
       "      <td>0</td>\n",
       "      <td>0</td>\n",
       "      <td>0</td>\n",
       "      <td>0</td>\n",
       "      <td>0</td>\n",
       "      <td>0</td>\n",
       "      <td>1</td>\n",
       "    </tr>\n",
       "    <tr>\n",
       "      <th>2000-02-11</th>\n",
       "      <td>DELL</td>\n",
       "      <td>7681.000</td>\n",
       "      <td>3538.000</td>\n",
       "      <td>11471.000</td>\n",
       "      <td>5308.000</td>\n",
       "      <td>4132.000</td>\n",
       "      <td>5452.000</td>\n",
       "      <td>2536.0000</td>\n",
       "      <td>2731.000</td>\n",
       "      <td>2575.000</td>\n",
       "      <td>...</td>\n",
       "      <td>0</td>\n",
       "      <td>0</td>\n",
       "      <td>0</td>\n",
       "      <td>0</td>\n",
       "      <td>0</td>\n",
       "      <td>0</td>\n",
       "      <td>0</td>\n",
       "      <td>0</td>\n",
       "      <td>0</td>\n",
       "      <td>1</td>\n",
       "    </tr>\n",
       "    <tr>\n",
       "      <th>2000-02-15</th>\n",
       "      <td>VAL</td>\n",
       "      <td>507.082</td>\n",
       "      <td>139.497</td>\n",
       "      <td>1094.080</td>\n",
       "      <td>402.382</td>\n",
       "      <td>27.605</td>\n",
       "      <td>221.366</td>\n",
       "      <td>43.1858</td>\n",
       "      <td>43.687</td>\n",
       "      <td>53.321</td>\n",
       "      <td>...</td>\n",
       "      <td>0</td>\n",
       "      <td>0</td>\n",
       "      <td>0</td>\n",
       "      <td>0</td>\n",
       "      <td>0</td>\n",
       "      <td>0</td>\n",
       "      <td>0</td>\n",
       "      <td>0</td>\n",
       "      <td>0</td>\n",
       "      <td>1</td>\n",
       "    </tr>\n",
       "    <tr>\n",
       "      <th>...</th>\n",
       "      <td>...</td>\n",
       "      <td>...</td>\n",
       "      <td>...</td>\n",
       "      <td>...</td>\n",
       "      <td>...</td>\n",
       "      <td>...</td>\n",
       "      <td>...</td>\n",
       "      <td>...</td>\n",
       "      <td>...</td>\n",
       "      <td>...</td>\n",
       "      <td>...</td>\n",
       "      <td>...</td>\n",
       "      <td>...</td>\n",
       "      <td>...</td>\n",
       "      <td>...</td>\n",
       "      <td>...</td>\n",
       "      <td>...</td>\n",
       "      <td>...</td>\n",
       "      <td>...</td>\n",
       "      <td>...</td>\n",
       "      <td>...</td>\n",
       "    </tr>\n",
       "    <tr>\n",
       "      <th>2018-12-21</th>\n",
       "      <td>NKE</td>\n",
       "      <td>15566.000</td>\n",
       "      <td>2574.000</td>\n",
       "      <td>22677.000</td>\n",
       "      <td>8729.000</td>\n",
       "      <td>4041.000</td>\n",
       "      <td>5098.000</td>\n",
       "      <td>1601.1500</td>\n",
       "      <td>1620.700</td>\n",
       "      <td>1577.000</td>\n",
       "      <td>...</td>\n",
       "      <td>0</td>\n",
       "      <td>0</td>\n",
       "      <td>0</td>\n",
       "      <td>0</td>\n",
       "      <td>0</td>\n",
       "      <td>0</td>\n",
       "      <td>0</td>\n",
       "      <td>0</td>\n",
       "      <td>0</td>\n",
       "      <td>0</td>\n",
       "    </tr>\n",
       "    <tr>\n",
       "      <th>2018-12-21</th>\n",
       "      <td>SAFM</td>\n",
       "      <td>566.489</td>\n",
       "      <td>128.936</td>\n",
       "      <td>1659.440</td>\n",
       "      <td>1387.893</td>\n",
       "      <td>121.193</td>\n",
       "      <td>758.313</td>\n",
       "      <td>22.4290</td>\n",
       "      <td>22.191</td>\n",
       "      <td>22.100</td>\n",
       "      <td>...</td>\n",
       "      <td>0</td>\n",
       "      <td>0</td>\n",
       "      <td>0</td>\n",
       "      <td>0</td>\n",
       "      <td>0</td>\n",
       "      <td>0</td>\n",
       "      <td>0</td>\n",
       "      <td>0</td>\n",
       "      <td>0</td>\n",
       "      <td>0</td>\n",
       "    </tr>\n",
       "    <tr>\n",
       "      <th>2018-12-21</th>\n",
       "      <td>SCHL</td>\n",
       "      <td>1172.300</td>\n",
       "      <td>250.300</td>\n",
       "      <td>2081.900</td>\n",
       "      <td>1284.600</td>\n",
       "      <td>358.100</td>\n",
       "      <td>262.400</td>\n",
       "      <td>35.0420</td>\n",
       "      <td>35.863</td>\n",
       "      <td>0.000</td>\n",
       "      <td>...</td>\n",
       "      <td>0</td>\n",
       "      <td>0</td>\n",
       "      <td>0</td>\n",
       "      <td>0</td>\n",
       "      <td>0</td>\n",
       "      <td>0</td>\n",
       "      <td>0</td>\n",
       "      <td>0</td>\n",
       "      <td>0</td>\n",
       "      <td>0</td>\n",
       "    </tr>\n",
       "    <tr>\n",
       "      <th>2018-12-21</th>\n",
       "      <td>WBA</td>\n",
       "      <td>20083.000</td>\n",
       "      <td>14660.000</td>\n",
       "      <td>69941.000</td>\n",
       "      <td>25609.000</td>\n",
       "      <td>1183.000</td>\n",
       "      <td>25651.000</td>\n",
       "      <td>976.4750</td>\n",
       "      <td>951.400</td>\n",
       "      <td>1172.514</td>\n",
       "      <td>...</td>\n",
       "      <td>0</td>\n",
       "      <td>0</td>\n",
       "      <td>0</td>\n",
       "      <td>0</td>\n",
       "      <td>0</td>\n",
       "      <td>0</td>\n",
       "      <td>0</td>\n",
       "      <td>0</td>\n",
       "      <td>0</td>\n",
       "      <td>0</td>\n",
       "    </tr>\n",
       "    <tr>\n",
       "      <th>2018-12-24</th>\n",
       "      <td>KMX</td>\n",
       "      <td>3057.419</td>\n",
       "      <td>558.324</td>\n",
       "      <td>18396.812</td>\n",
       "      <td>3435.113</td>\n",
       "      <td>461.662</td>\n",
       "      <td>3819.336</td>\n",
       "      <td>177.2235</td>\n",
       "      <td>175.321</td>\n",
       "      <td>171.785</td>\n",
       "      <td>...</td>\n",
       "      <td>0</td>\n",
       "      <td>0</td>\n",
       "      <td>0</td>\n",
       "      <td>0</td>\n",
       "      <td>0</td>\n",
       "      <td>0</td>\n",
       "      <td>0</td>\n",
       "      <td>0</td>\n",
       "      <td>0</td>\n",
       "      <td>0</td>\n",
       "    </tr>\n",
       "  </tbody>\n",
       "</table>\n",
       "<p>111468 rows × 733 columns</p>\n",
       "</div>"
      ],
      "text/plain": [
       "           ticker       actq        apq        atq       ceqq      cheq  \\\n",
       "date                                                                      \n",
       "2000-02-09   CSCO   7722.000    482.000  21391.000  16523.000  3968.000   \n",
       "2000-02-09    ROP    172.725     19.662    474.649    239.432     3.198   \n",
       "2000-02-10   CMOS    240.767     27.044    376.536    209.411    68.625   \n",
       "2000-02-11   DELL   7681.000   3538.000  11471.000   5308.000  4132.000   \n",
       "2000-02-15    VAL    507.082    139.497   1094.080    402.382    27.605   \n",
       "...           ...        ...        ...        ...        ...       ...   \n",
       "2018-12-21    NKE  15566.000   2574.000  22677.000   8729.000  4041.000   \n",
       "2018-12-21   SAFM    566.489    128.936   1659.440   1387.893   121.193   \n",
       "2018-12-21   SCHL   1172.300    250.300   2081.900   1284.600   358.100   \n",
       "2018-12-21    WBA  20083.000  14660.000  69941.000  25609.000  1183.000   \n",
       "2018-12-24    KMX   3057.419    558.324  18396.812   3435.113   461.662   \n",
       "\n",
       "                cogsq     csh12q    cshfdq     cshiq  ...  sector_code_817.0  \\\n",
       "date                                                  ...                      \n",
       "2000-02-09   1422.000  3374.1250  3648.000  3445.000  ...                  0   \n",
       "2000-02-09     47.634    30.2688    31.217     0.000  ...                  0   \n",
       "2000-02-10     43.023    21.4360    23.753     0.000  ...                  0   \n",
       "2000-02-11   5452.000  2536.0000  2731.000  2575.000  ...                  0   \n",
       "2000-02-15    221.366    43.1858    43.687    53.321  ...                  0   \n",
       "...               ...        ...       ...       ...  ...                ...   \n",
       "2018-12-21   5098.000  1601.1500  1620.700  1577.000  ...                  0   \n",
       "2018-12-21    758.313    22.4290    22.191    22.100  ...                  0   \n",
       "2018-12-21    262.400    35.0420    35.863     0.000  ...                  0   \n",
       "2018-12-21  25651.000   976.4750   951.400  1172.514  ...                  0   \n",
       "2018-12-24   3819.336   177.2235   175.321   171.785  ...                  0   \n",
       "\n",
       "            sector_code_822.0  sector_code_823.0  sector_code_825.0  \\\n",
       "date                                                                  \n",
       "2000-02-09                  0                  0                  0   \n",
       "2000-02-09                  0                  0                  0   \n",
       "2000-02-10                  0                  0                  0   \n",
       "2000-02-11                  0                  0                  0   \n",
       "2000-02-15                  0                  0                  0   \n",
       "...                       ...                ...                ...   \n",
       "2018-12-21                  0                  0                  0   \n",
       "2018-12-21                  0                  0                  0   \n",
       "2018-12-21                  0                  0                  0   \n",
       "2018-12-21                  0                  0                  0   \n",
       "2018-12-24                  0                  0                  0   \n",
       "\n",
       "            sector_code_830.0  sector_code_835.0  sector_code_840.0  \\\n",
       "date                                                                  \n",
       "2000-02-09                  0                  0                  0   \n",
       "2000-02-09                  0                  0                  0   \n",
       "2000-02-10                  0                  0                  0   \n",
       "2000-02-11                  0                  0                  0   \n",
       "2000-02-15                  0                  0                  0   \n",
       "...                       ...                ...                ...   \n",
       "2018-12-21                  0                  0                  0   \n",
       "2018-12-21                  0                  0                  0   \n",
       "2018-12-21                  0                  0                  0   \n",
       "2018-12-21                  0                  0                  0   \n",
       "2018-12-24                  0                  0                  0   \n",
       "\n",
       "            sector_code_845.0  sector_code_850.0  rel_performance  \n",
       "date                                                               \n",
       "2000-02-09                  0                  0               -1  \n",
       "2000-02-09                  0                  0                1  \n",
       "2000-02-10                  0                  0                1  \n",
       "2000-02-11                  0                  0                1  \n",
       "2000-02-15                  0                  0                1  \n",
       "...                       ...                ...              ...  \n",
       "2018-12-21                  0                  0                0  \n",
       "2018-12-21                  0                  0                0  \n",
       "2018-12-21                  0                  0                0  \n",
       "2018-12-21                  0                  0                0  \n",
       "2018-12-24                  0                  0                0  \n",
       "\n",
       "[111468 rows x 733 columns]"
      ]
     },
     "execution_count": 11,
     "metadata": {},
     "output_type": "execute_result"
    }
   ],
   "source": [
    "data"
   ]
  },
  {
   "cell_type": "markdown",
   "metadata": {},
   "source": [
    "#### We use a training period of 3 years = 12 quarters, and choose two random 3 year time spans as training and test sets"
   ]
  },
  {
   "cell_type": "code",
   "execution_count": 12,
   "metadata": {
    "scrolled": true
   },
   "outputs": [],
   "source": [
    "df_1 = data.loc['2008-01-01':'2011-01-01']\n",
    "df_2 = data.loc['2015-04-01':'2018-04-01']"
   ]
  },
  {
   "cell_type": "markdown",
   "metadata": {},
   "source": [
    "#### The validation set and test set are the quarters starting 1 quarter after the end of the training periods"
   ]
  },
  {
   "cell_type": "code",
   "execution_count": 13,
   "metadata": {},
   "outputs": [],
   "source": [
    "df_valid = data.loc['2012-04-01':'2012-07-01']\n",
    "df_test = data.loc['2018-07-01':'2018-10-01']"
   ]
  },
  {
   "cell_type": "markdown",
   "metadata": {},
   "source": [
    "#### Next we delete the columns that are not needed for training"
   ]
  },
  {
   "cell_type": "code",
   "execution_count": 14,
   "metadata": {},
   "outputs": [],
   "source": [
    "train_1 = df_1.reset_index().drop(['ticker','date',\n",
    "                                   'next_period_return',\n",
    "                                   'spy_next_period_return',\n",
    "                                   'rel_performance','pred_rel_return',\n",
    "                                  'return', 'cum_ret', 'spy_cum_ret'],axis=1)\n",
    "train_2 = df_2.reset_index().drop(['ticker','date',\n",
    "                                   'next_period_return',\n",
    "                                   'spy_next_period_return',\n",
    "                                   'rel_performance','pred_rel_return',\n",
    "                                  'return', 'cum_ret', 'spy_cum_ret'],axis=1)\n",
    "\n",
    "valid = df_valid.reset_index().drop(['ticker','date',\n",
    "                                   'next_period_return',\n",
    "                                   'spy_next_period_return',\n",
    "                                   'rel_performance','pred_rel_return',\n",
    "                                  'return', 'cum_ret', 'spy_cum_ret'],axis=1)\n",
    "test = df_test.reset_index().drop(['ticker','date',\n",
    "                                   'next_period_return',\n",
    "                                   'spy_next_period_return',\n",
    "                                   'rel_performance','pred_rel_return',\n",
    "                                  'return', 'cum_ret', 'spy_cum_ret'],axis=1)"
   ]
  },
  {
   "cell_type": "markdown",
   "metadata": {},
   "source": [
    "#### We take out the actual  earnings period stock returns in the training and test sets"
   ]
  },
  {
   "cell_type": "code",
   "execution_count": 15,
   "metadata": {},
   "outputs": [],
   "source": [
    "train_1_stock_returns = df_1['next_period_return']\n",
    "valid_stock_returns = df_valid['next_period_return']\n",
    "train_2_stock_returns = df_2['next_period_return']\n",
    "test_stock_returns = df_test['next_period_return']"
   ]
  },
  {
   "cell_type": "markdown",
   "metadata": {},
   "source": [
    "#### and the labels for the training and validation and test data. We turn them into arrays by applying the .values method"
   ]
  },
  {
   "cell_type": "code",
   "execution_count": 16,
   "metadata": {},
   "outputs": [],
   "source": [
    "y_1 = df_1['rel_performance']\n",
    "y_2 = df_2['rel_performance']\n",
    "y_valid = df_valid['rel_performance']\n",
    "y_test = df_test['rel_performance']"
   ]
  },
  {
   "cell_type": "code",
   "execution_count": 17,
   "metadata": {},
   "outputs": [],
   "source": [
    "y_1 = y_1.values\n",
    "y_2 = y_2.values\n",
    "y_valid = y_valid.values\n",
    "y_test = y_test.values"
   ]
  },
  {
   "cell_type": "markdown",
   "metadata": {},
   "source": [
    "## Number of Features"
   ]
  },
  {
   "cell_type": "code",
   "execution_count": 18,
   "metadata": {},
   "outputs": [
    {
     "data": {
      "text/plain": [
       "725"
      ]
     },
     "execution_count": 18,
     "metadata": {},
     "output_type": "execute_result"
    }
   ],
   "source": [
    "len(train_1.columns)"
   ]
  },
  {
   "cell_type": "markdown",
   "metadata": {},
   "source": [
    "## Importing the Tree Classifier and some metrics from sklearn"
   ]
  },
  {
   "cell_type": "code",
   "execution_count": 19,
   "metadata": {},
   "outputs": [],
   "source": [
    "from sklearn.tree import DecisionTreeClassifier\n",
    "from sklearn.metrics import accuracy_score,confusion_matrix"
   ]
  },
  {
   "cell_type": "markdown",
   "metadata": {},
   "source": [
    "## Instantiating the classifiers with hyper-parameters\n",
    "\n",
    "`random_state` used to choose between states of same GINI index (or other measure of cost), makes results reproducible."
   ]
  },
  {
   "cell_type": "code",
   "execution_count": 20,
   "metadata": {},
   "outputs": [],
   "source": [
    "t_clf = DecisionTreeClassifier(min_samples_leaf =600,max_depth=8,random_state=123)"
   ]
  },
  {
   "cell_type": "markdown",
   "metadata": {},
   "source": [
    "## Now we can fit the tree with the training data"
   ]
  },
  {
   "cell_type": "code",
   "execution_count": 21,
   "metadata": {},
   "outputs": [
    {
     "data": {
      "text/plain": [
       "DecisionTreeClassifier(max_depth=8, min_samples_leaf=600, random_state=123)"
      ]
     },
     "execution_count": 21,
     "metadata": {},
     "output_type": "execute_result"
    }
   ],
   "source": [
    "t_clf.fit(train_1,y_1)"
   ]
  },
  {
   "cell_type": "markdown",
   "metadata": {},
   "source": [
    "### and see how well it fits the training data\n",
    "\n",
    "Score = probability of right?"
   ]
  },
  {
   "cell_type": "code",
   "execution_count": 22,
   "metadata": {},
   "outputs": [
    {
     "data": {
      "text/plain": [
       "0.5562352641305041"
      ]
     },
     "execution_count": 22,
     "metadata": {},
     "output_type": "execute_result"
    }
   ],
   "source": [
    "t_clf.score(train_1,y_1)"
   ]
  },
  {
   "cell_type": "markdown",
   "metadata": {},
   "source": [
    "### and predicts the validation data (not very well)"
   ]
  },
  {
   "cell_type": "code",
   "execution_count": 23,
   "metadata": {},
   "outputs": [
    {
     "data": {
      "text/plain": [
       "0.44623990055935364"
      ]
     },
     "execution_count": 23,
     "metadata": {},
     "output_type": "execute_result"
    }
   ],
   "source": [
    "t_clf.score(valid,y_valid)"
   ]
  },
  {
   "cell_type": "markdown",
   "metadata": {},
   "source": [
    "### The predicted labels on the validation set and their counts"
   ]
  },
  {
   "cell_type": "code",
   "execution_count": 24,
   "metadata": {},
   "outputs": [],
   "source": [
    "pred_valid = t_clf.predict(valid)"
   ]
  },
  {
   "cell_type": "code",
   "execution_count": 25,
   "metadata": {},
   "outputs": [
    {
     "data": {
      "text/plain": [
       "Counter({1: 1426, -1: 183})"
      ]
     },
     "execution_count": 25,
     "metadata": {},
     "output_type": "execute_result"
    }
   ],
   "source": [
    "Counter(pred_valid)"
   ]
  },
  {
   "cell_type": "markdown",
   "metadata": {},
   "source": [
    "### Visualizing the tree"
   ]
  },
  {
   "cell_type": "code",
   "execution_count": 28,
   "metadata": {},
   "outputs": [],
   "source": [
    "import graphviz\n",
    "from sklearn import tree"
   ]
  },
  {
   "cell_type": "code",
   "execution_count": 29,
   "metadata": {},
   "outputs": [
    {
     "data": {
      "text/plain": [
       "'tree_10.pdf'"
      ]
     },
     "execution_count": 29,
     "metadata": {},
     "output_type": "execute_result"
    }
   ],
   "source": [
    "dot_data = tree.export_graphviz(t_clf,out_file=None)\n",
    "graph = graphviz.Source(dot_data)\n",
    "graph.render('tree_10')"
   ]
  },
  {
   "cell_type": "markdown",
   "metadata": {},
   "source": [
    "## Now we are going to cut the features by looking at their importance in the tree. The visualization of the tree shows that only a few of the features are actually used"
   ]
  },
  {
   "cell_type": "code",
   "execution_count": 30,
   "metadata": {},
   "outputs": [],
   "source": [
    "def tree_feat_importance(m, df):\n",
    "    return pd.DataFrame({'cols':df.columns, 'feat_imp':m.feature_importances_}\n",
    "                       ).sort_values('feat_imp', ascending=False)\n",
    "\n",
    "def plot_fi(fi): return fi.plot('cols', 'feat_imp', 'barh', figsize=(12,7), legend=False)"
   ]
  },
  {
   "cell_type": "code",
   "execution_count": 31,
   "metadata": {},
   "outputs": [],
   "source": [
    "fi = tree_feat_importance(t_clf,train_1)"
   ]
  },
  {
   "cell_type": "code",
   "execution_count": 32,
   "metadata": {
    "scrolled": true
   },
   "outputs": [
    {
     "data": {
      "text/html": [
       "<div>\n",
       "<style scoped>\n",
       "    .dataframe tbody tr th:only-of-type {\n",
       "        vertical-align: middle;\n",
       "    }\n",
       "\n",
       "    .dataframe tbody tr th {\n",
       "        vertical-align: top;\n",
       "    }\n",
       "\n",
       "    .dataframe thead th {\n",
       "        text-align: right;\n",
       "    }\n",
       "</style>\n",
       "<table border=\"1\" class=\"dataframe\">\n",
       "  <thead>\n",
       "    <tr style=\"text-align: right;\">\n",
       "      <th></th>\n",
       "      <th>cols</th>\n",
       "      <th>feat_imp</th>\n",
       "    </tr>\n",
       "  </thead>\n",
       "  <tbody>\n",
       "    <tr>\n",
       "      <th>180</th>\n",
       "      <td>fqtr_2</td>\n",
       "      <td>0.193202</td>\n",
       "    </tr>\n",
       "    <tr>\n",
       "      <th>105</th>\n",
       "      <td>cf_yield</td>\n",
       "      <td>0.121547</td>\n",
       "    </tr>\n",
       "    <tr>\n",
       "      <th>136</th>\n",
       "      <td>gprofq</td>\n",
       "      <td>0.088563</td>\n",
       "    </tr>\n",
       "    <tr>\n",
       "      <th>95</th>\n",
       "      <td>evmq</td>\n",
       "      <td>0.079771</td>\n",
       "    </tr>\n",
       "    <tr>\n",
       "      <th>150</th>\n",
       "      <td>lt_debtq</td>\n",
       "      <td>0.079758</td>\n",
       "    </tr>\n",
       "    <tr>\n",
       "      <th>...</th>\n",
       "      <td>...</td>\n",
       "      <td>...</td>\n",
       "    </tr>\n",
       "    <tr>\n",
       "      <th>253</th>\n",
       "      <td>sic_2670</td>\n",
       "      <td>0.000000</td>\n",
       "    </tr>\n",
       "    <tr>\n",
       "      <th>254</th>\n",
       "      <td>sic_2673</td>\n",
       "      <td>0.000000</td>\n",
       "    </tr>\n",
       "    <tr>\n",
       "      <th>255</th>\n",
       "      <td>sic_2711</td>\n",
       "      <td>0.000000</td>\n",
       "    </tr>\n",
       "    <tr>\n",
       "      <th>256</th>\n",
       "      <td>sic_2721</td>\n",
       "      <td>0.000000</td>\n",
       "    </tr>\n",
       "    <tr>\n",
       "      <th>724</th>\n",
       "      <td>sector_code_850.0</td>\n",
       "      <td>0.000000</td>\n",
       "    </tr>\n",
       "  </tbody>\n",
       "</table>\n",
       "<p>725 rows × 2 columns</p>\n",
       "</div>"
      ],
      "text/plain": [
       "                  cols  feat_imp\n",
       "180             fqtr_2  0.193202\n",
       "105           cf_yield  0.121547\n",
       "136             gprofq  0.088563\n",
       "95                evmq  0.079771\n",
       "150           lt_debtq  0.079758\n",
       "..                 ...       ...\n",
       "253           sic_2670  0.000000\n",
       "254           sic_2673  0.000000\n",
       "255           sic_2711  0.000000\n",
       "256           sic_2721  0.000000\n",
       "724  sector_code_850.0  0.000000\n",
       "\n",
       "[725 rows x 2 columns]"
      ]
     },
     "execution_count": 32,
     "metadata": {},
     "output_type": "execute_result"
    }
   ],
   "source": [
    "fi"
   ]
  },
  {
   "cell_type": "markdown",
   "metadata": {},
   "source": [
    "## We are only going to use the features that have positive feature importance i.e. occur in the tree"
   ]
  },
  {
   "cell_type": "code",
   "execution_count": 33,
   "metadata": {},
   "outputs": [],
   "source": [
    "features = fi[(fi['feat_imp'] > 0.00)]"
   ]
  },
  {
   "cell_type": "markdown",
   "metadata": {},
   "source": [
    "### Feature importance spectrum"
   ]
  },
  {
   "cell_type": "code",
   "execution_count": 34,
   "metadata": {},
   "outputs": [
    {
     "data": {
      "image/png": "[encoded data removed]",
      "text/plain": [
       "<Figure size 864x504 with 1 Axes>"
      ]
     },
     "metadata": {
      "needs_background": "light"
     },
     "output_type": "display_data"
    }
   ],
   "source": [
    "plot_fi(features);"
   ]
  },
  {
   "cell_type": "markdown",
   "metadata": {},
   "source": [
    "#### We are left with a much smaller set of features"
   ]
  },
  {
   "cell_type": "code",
   "execution_count": 35,
   "metadata": {},
   "outputs": [
    {
     "data": {
      "text/plain": [
       "15"
      ]
     },
     "execution_count": 35,
     "metadata": {},
     "output_type": "execute_result"
    }
   ],
   "source": [
    "len(features['cols'].values)"
   ]
  },
  {
   "cell_type": "markdown",
   "metadata": {},
   "source": [
    "### We cut down the training and validation data sets to only include the relevant features and retrain the tree on the reduced data set"
   ]
  },
  {
   "cell_type": "code",
   "execution_count": 36,
   "metadata": {},
   "outputs": [],
   "source": [
    "train_1 = train_1[features['cols'].values]"
   ]
  },
  {
   "cell_type": "code",
   "execution_count": 37,
   "metadata": {},
   "outputs": [
    {
     "data": {
      "text/plain": [
       "DecisionTreeClassifier(max_depth=8, min_samples_leaf=600, random_state=123)"
      ]
     },
     "execution_count": 37,
     "metadata": {},
     "output_type": "execute_result"
    }
   ],
   "source": [
    "t_clf.fit(train_1,y_1)"
   ]
  },
  {
   "cell_type": "code",
   "execution_count": 38,
   "metadata": {},
   "outputs": [
    {
     "data": {
      "text/plain": [
       "0.5562352641305041"
      ]
     },
     "execution_count": 38,
     "metadata": {},
     "output_type": "execute_result"
    }
   ],
   "source": [
    "t_clf.score(train_1,y_1)"
   ]
  },
  {
   "cell_type": "code",
   "execution_count": 39,
   "metadata": {},
   "outputs": [],
   "source": [
    "valid = valid[features['cols'].values]"
   ]
  },
  {
   "cell_type": "code",
   "execution_count": 40,
   "metadata": {},
   "outputs": [
    {
     "data": {
      "text/plain": [
       "0.44623990055935364"
      ]
     },
     "execution_count": 40,
     "metadata": {},
     "output_type": "execute_result"
    }
   ],
   "source": [
    "t_clf.score(valid,y_valid)"
   ]
  },
  {
   "cell_type": "code",
   "execution_count": 41,
   "metadata": {},
   "outputs": [],
   "source": [
    "pred_valid = t_clf.predict(valid)"
   ]
  },
  {
   "cell_type": "code",
   "execution_count": 42,
   "metadata": {},
   "outputs": [
    {
     "data": {
      "text/plain": [
       "array([[103,   0, 725],\n",
       "       [ 13,   0,  86],\n",
       "       [ 67,   0, 615]])"
      ]
     },
     "execution_count": 42,
     "metadata": {},
     "output_type": "execute_result"
    }
   ],
   "source": [
    "confusion_matrix(y_valid,pred_valid)"
   ]
  },
  {
   "cell_type": "markdown",
   "metadata": {},
   "source": [
    "## We are really only interested in how much return the strategy generates over the validation period"
   ]
  },
  {
   "cell_type": "code",
   "execution_count": 43,
   "metadata": {},
   "outputs": [
    {
     "data": {
      "text/plain": [
       "-8.868565000000022"
      ]
     },
     "execution_count": 43,
     "metadata": {},
     "output_type": "execute_result"
    }
   ],
   "source": [
    "(pred_valid * df_valid['next_period_return']).sum()"
   ]
  },
  {
   "cell_type": "markdown",
   "metadata": {},
   "source": [
    "### We define the Profit Importance of a feature by how much removing the feature affects the profit (positivly or negatively). By scrambling the feature column we get a column which should have to effect on the profit and we compute the profit with the scrambled column. Because the scrambling is random we use 100 random permutations and take the average.\n",
    "\n",
    "Essentially takes out the column (doesn't need to re-run many times)."
   ]
  },
  {
   "cell_type": "code",
   "execution_count": 44,
   "metadata": {},
   "outputs": [],
   "source": [
    "def profit_importance(t,df,rets):\n",
    "#     np.random.seed(123)\n",
    "    profit = []\n",
    "    for col in df.columns:\n",
    "            X = df.copy()\n",
    "            X[col] = np.random.permutation(df[col].values)\n",
    "            prediction = t.predict(X)\n",
    "            profit.append((prediction * rets).sum())\n",
    "    return profit"
   ]
  },
  {
   "cell_type": "code",
   "execution_count": 45,
   "metadata": {},
   "outputs": [],
   "source": [
    "def tree_profit_importance(m, df,rets):\n",
    "    return pd.DataFrame({'cols':df.columns, 'pi_imp':profit_importance(m,df,rets)}\n",
    "                       ).sort_values('pi_imp', ascending=True)"
   ]
  },
  {
   "cell_type": "code",
   "execution_count": 46,
   "metadata": {},
   "outputs": [
    {
     "data": {
      "text/html": [
       "<div>\n",
       "<style scoped>\n",
       "    .dataframe tbody tr th:only-of-type {\n",
       "        vertical-align: middle;\n",
       "    }\n",
       "\n",
       "    .dataframe tbody tr th {\n",
       "        vertical-align: top;\n",
       "    }\n",
       "\n",
       "    .dataframe thead th {\n",
       "        text-align: right;\n",
       "    }\n",
       "</style>\n",
       "<table border=\"1\" class=\"dataframe\">\n",
       "  <thead>\n",
       "    <tr style=\"text-align: right;\">\n",
       "      <th></th>\n",
       "      <th>cols</th>\n",
       "      <th>pi_imp</th>\n",
       "    </tr>\n",
       "  </thead>\n",
       "  <tbody>\n",
       "    <tr>\n",
       "      <th>3</th>\n",
       "      <td>evmq</td>\n",
       "      <td>-13.927877</td>\n",
       "    </tr>\n",
       "    <tr>\n",
       "      <th>4</th>\n",
       "      <td>lt_debtq</td>\n",
       "      <td>-13.196193</td>\n",
       "    </tr>\n",
       "    <tr>\n",
       "      <th>0</th>\n",
       "      <td>fqtr_2</td>\n",
       "      <td>-10.957913</td>\n",
       "    </tr>\n",
       "    <tr>\n",
       "      <th>1</th>\n",
       "      <td>cf_yield</td>\n",
       "      <td>-10.419663</td>\n",
       "    </tr>\n",
       "    <tr>\n",
       "      <th>12</th>\n",
       "      <td>dlcq</td>\n",
       "      <td>-9.380279</td>\n",
       "    </tr>\n",
       "    <tr>\n",
       "      <th>11</th>\n",
       "      <td>short_debtq</td>\n",
       "      <td>-9.173265</td>\n",
       "    </tr>\n",
       "    <tr>\n",
       "      <th>5</th>\n",
       "      <td>ptpmq</td>\n",
       "      <td>-8.868565</td>\n",
       "    </tr>\n",
       "    <tr>\n",
       "      <th>6</th>\n",
       "      <td>teqq</td>\n",
       "      <td>-8.868565</td>\n",
       "    </tr>\n",
       "    <tr>\n",
       "      <th>7</th>\n",
       "      <td>ocf_lctq</td>\n",
       "      <td>-8.868565</td>\n",
       "    </tr>\n",
       "    <tr>\n",
       "      <th>8</th>\n",
       "      <td>cshiq</td>\n",
       "      <td>-8.868565</td>\n",
       "    </tr>\n",
       "    <tr>\n",
       "      <th>9</th>\n",
       "      <td>dlttq</td>\n",
       "      <td>-8.868565</td>\n",
       "    </tr>\n",
       "    <tr>\n",
       "      <th>10</th>\n",
       "      <td>oepsxy</td>\n",
       "      <td>-8.868565</td>\n",
       "    </tr>\n",
       "    <tr>\n",
       "      <th>13</th>\n",
       "      <td>lagppent4</td>\n",
       "      <td>-8.868565</td>\n",
       "    </tr>\n",
       "    <tr>\n",
       "      <th>14</th>\n",
       "      <td>market_cap</td>\n",
       "      <td>-8.868565</td>\n",
       "    </tr>\n",
       "    <tr>\n",
       "      <th>2</th>\n",
       "      <td>gprofq</td>\n",
       "      <td>-6.559687</td>\n",
       "    </tr>\n",
       "  </tbody>\n",
       "</table>\n",
       "</div>"
      ],
      "text/plain": [
       "           cols     pi_imp\n",
       "3          evmq -13.927877\n",
       "4      lt_debtq -13.196193\n",
       "0        fqtr_2 -10.957913\n",
       "1      cf_yield -10.419663\n",
       "12         dlcq  -9.380279\n",
       "11  short_debtq  -9.173265\n",
       "5         ptpmq  -8.868565\n",
       "6          teqq  -8.868565\n",
       "7      ocf_lctq  -8.868565\n",
       "8         cshiq  -8.868565\n",
       "9         dlttq  -8.868565\n",
       "10       oepsxy  -8.868565\n",
       "13    lagppent4  -8.868565\n",
       "14   market_cap  -8.868565\n",
       "2        gprofq  -6.559687"
      ]
     },
     "execution_count": 46,
     "metadata": {},
     "output_type": "execute_result"
    }
   ],
   "source": [
    "pi = tree_profit_importance(t_clf,valid,df_valid['next_period_return'])\n",
    "pi"
   ]
  },
  {
   "cell_type": "markdown",
   "metadata": {},
   "source": [
    "## We now remove the features one at a time from the bottom of the profit importance list and recompute the profit. At each step we rettain the tree and remove features that may become irrelevant. We then compute a new profit importance list and remove the last item etc. The features are very interdependent so removing a feature can greatly affect the profit importances of the remaining features"
   ]
  },
  {
   "cell_type": "code",
   "execution_count": 47,
   "metadata": {},
   "outputs": [],
   "source": [
    "profits = []\n",
    "feat=[]\n",
    "train = train_1.copy()\n",
    "validation = valid.copy()\n",
    "while len(train.columns)>2:\n",
    "    # Removes a feature, retrains...\n",
    "    t_clf.fit(train,y_1)\n",
    "    pi = tree_profit_importance(t_clf,validation,valid_stock_returns)\n",
    "\n",
    "    col_to_drop = pi[pi['pi_imp'] == pi['pi_imp'].max()]['cols'].iloc[0]\n",
    "    \n",
    "    train.drop(col_to_drop,axis=1,inplace=True)\n",
    "    validation.drop(col_to_drop,axis=1,inplace=True)\n",
    "    \n",
    "    t_clf.fit(train,y_1)\n",
    "    fi = tree_feat_importance(t_clf,train)\n",
    "    features = fi[(fi['feat_imp'] > 0.00)]\n",
    "    \n",
    "    train = train[features['cols'].values]\n",
    "    validation = validation[features['cols'].values]\n",
    "    \n",
    "    t_clf.fit(train,y_1)\n",
    "    pred_valid = t_clf.predict(validation)\n",
    "    profits.append((pred_valid * df_valid['next_period_return']).sum())\n",
    "    feat.append(features['cols'].values)\n",
    "    "
   ]
  },
  {
   "cell_type": "markdown",
   "metadata": {},
   "source": [
    "### We plot the profits for the steps and find the step where the profit is maximal and take the corresponding set of features as the optimal feature set"
   ]
  },
  {
   "cell_type": "code",
   "execution_count": 48,
   "metadata": {},
   "outputs": [
    {
     "data": {
      "image/png": "[encoded data removed]",
      "text/plain": [
       "<Figure size 432x288 with 1 Axes>"
      ]
     },
     "metadata": {
      "needs_background": "light"
     },
     "output_type": "display_data"
    }
   ],
   "source": [
    "plt.plot(profits);"
   ]
  },
  {
   "cell_type": "code",
   "execution_count": 49,
   "metadata": {},
   "outputs": [],
   "source": [
    "n = np.argmax(profits)\n",
    "max_profits = profits[n]\n",
    "optim_feats = feat[n]"
   ]
  },
  {
   "cell_type": "code",
   "execution_count": 50,
   "metadata": {},
   "outputs": [
    {
     "name": "stdout",
     "output_type": "stream",
     "text": [
      "-4.274410999999988\n",
      "['cf_yield' 'lt_debtq' 'market_cap' 'evmq' 'ocf_lctq' 'dlcq' 'ptpmq'\n",
      " 'short_debtq' 'cshiq']\n"
     ]
    }
   ],
   "source": [
    "print(max_profits)\n",
    "print(optim_feats)"
   ]
  },
  {
   "cell_type": "markdown",
   "metadata": {},
   "source": [
    "### We restrict the traing set to the optimal features and retrain the tree on the reduces data set"
   ]
  },
  {
   "cell_type": "code",
   "execution_count": 51,
   "metadata": {},
   "outputs": [
    {
     "data": {
      "text/plain": [
       "-4.274410999999988"
      ]
     },
     "execution_count": 51,
     "metadata": {},
     "output_type": "execute_result"
    }
   ],
   "source": [
    "train_1_optim = train_1[optim_feats]\n",
    "valid_optim = valid[optim_feats]\n",
    "\n",
    "t_clf.fit(train_1_optim,y_1)\n",
    "pred_valid_tree = t_clf.predict(valid_optim)\n",
    "(pred_valid_tree * df_valid['next_period_return']).sum()"
   ]
  },
  {
   "cell_type": "markdown",
   "metadata": {},
   "source": [
    "## How well does it do on the test set?"
   ]
  },
  {
   "cell_type": "code",
   "execution_count": 52,
   "metadata": {},
   "outputs": [
    {
     "data": {
      "text/plain": [
       "0.20564400000000482"
      ]
     },
     "execution_count": 52,
     "metadata": {},
     "output_type": "execute_result"
    }
   ],
   "source": [
    "train_2_tree = train_2[optim_feats]\n",
    "test_tree = test[optim_feats]\n",
    "t_clf.fit(train_2_tree,y_2)\n",
    "pred_test_tree = t_clf.predict(test_tree)\n",
    "(pred_test_tree * df_test['next_period_return']).sum()"
   ]
  },
  {
   "cell_type": "markdown",
   "metadata": {},
   "source": [
    "## If we were 100% correct on the validation set we would get this profit"
   ]
  },
  {
   "cell_type": "code",
   "execution_count": 53,
   "metadata": {},
   "outputs": [
    {
     "data": {
      "text/plain": [
       "167.6089899999999"
      ]
     },
     "execution_count": 53,
     "metadata": {},
     "output_type": "execute_result"
    }
   ],
   "source": [
    "(y_valid * df_valid['pred_rel_return']).sum()"
   ]
  },
  {
   "cell_type": "markdown",
   "metadata": {},
   "source": [
    "## A totally random strategy where we randomly decide whether to buy or sell"
   ]
  },
  {
   "cell_type": "code",
   "execution_count": 54,
   "metadata": {},
   "outputs": [],
   "source": [
    "m = len(df_test['next_period_return'])"
   ]
  },
  {
   "cell_type": "code",
   "execution_count": 58,
   "metadata": {},
   "outputs": [],
   "source": [
    "random_predictions = []\n",
    "for _ in range(1000):\n",
    "    pred_random = np.random.choice([-1,0,1],m)\n",
    "    random_predictions.append((pred_random * df_test['next_period_return']).sum())\n",
    "    "
   ]
  },
  {
   "cell_type": "code",
   "execution_count": 59,
   "metadata": {},
   "outputs": [
    {
     "data": {
      "image/png": "[encoded data removed]",
      "text/plain": [
       "<Figure size 432x288 with 1 Axes>"
      ]
     },
     "metadata": {
      "needs_background": "light"
     },
     "output_type": "display_data"
    }
   ],
   "source": [
    "plt.hist(random_predictions,bins=30,density=True);"
   ]
  },
  {
   "cell_type": "code",
   "execution_count": 60,
   "metadata": {},
   "outputs": [
    {
     "data": {
      "text/plain": [
       "0.09014800399999813"
      ]
     },
     "execution_count": 60,
     "metadata": {},
     "output_type": "execute_result"
    }
   ],
   "source": [
    "np.mean(random_predictions)"
   ]
  },
  {
   "cell_type": "markdown",
   "metadata": {},
   "source": [
    "## Now we run this strategy over the whole period and se how it performs\n",
    "\n",
    "Walking forward"
   ]
  },
  {
   "cell_type": "code",
   "execution_count": 61,
   "metadata": {},
   "outputs": [],
   "source": [
    "start_dates = [pd.to_datetime('2000-01-01') + pd.DateOffset(months = 3 * i) for i in range(62)]\n",
    "end_dates = [d + pd.DateOffset(months = 36) for d in start_dates]"
   ]
  },
  {
   "cell_type": "code",
   "execution_count": 62,
   "metadata": {},
   "outputs": [],
   "source": [
    "training_frames = [data.loc[d:d+pd.DateOffset(months = 36)] for d in start_dates]\n",
    "test_frames = [data.loc[d + pd.DateOffset(months=3):d+pd.DateOffset(months = 6)] for d in end_dates]"
   ]
  },
  {
   "cell_type": "code",
   "execution_count": 63,
   "metadata": {},
   "outputs": [],
   "source": [
    "training_data = [d.reset_index().drop\n",
    "                                 (['ticker','date',\n",
    "                                   'next_period_return',\n",
    "                                   'spy_next_period_return',\n",
    "                                   'rel_performance','pred_rel_return',\n",
    "                                  'return', 'cum_ret', 'spy_cum_ret'],axis=1) for d in training_frames]"
   ]
  },
  {
   "cell_type": "code",
   "execution_count": 64,
   "metadata": {},
   "outputs": [],
   "source": [
    "test_data = [d.reset_index().drop(['ticker','date',\n",
    "                                   'next_period_return',\n",
    "                                   'spy_next_period_return',\n",
    "                                   'rel_performance','pred_rel_return',\n",
    "                                  'return', 'cum_ret', 'spy_cum_ret'],axis=1) for d in test_frames]"
   ]
  },
  {
   "cell_type": "markdown",
   "metadata": {},
   "source": [
    "`training_labels` array of arrays; length = number of training frames"
   ]
  },
  {
   "cell_type": "code",
   "execution_count": 65,
   "metadata": {},
   "outputs": [],
   "source": [
    "training_labels = [d['rel_performance'].values for d in training_frames]"
   ]
  },
  {
   "cell_type": "code",
   "execution_count": 66,
   "metadata": {},
   "outputs": [],
   "source": [
    "opt_training_data = [t[optim_feats] for t in training_data]\n",
    "opt_test_data = [v[optim_feats] for v in test_data]"
   ]
  },
  {
   "cell_type": "code",
   "execution_count": 67,
   "metadata": {},
   "outputs": [],
   "source": [
    "P_L = []\n",
    "x = [1]\n",
    "ret = []\n",
    "\n",
    "for i in range(len(training_labels)-1):\n",
    "        t_clf.fit(opt_training_data[i],training_labels[i])\n",
    "        pred_i = t_clf.predict(opt_test_data[i])\n",
    "        profit_i = (pred_i * test_frames[i]['next_period_return']).sum()\n",
    "        P_L.append(profit_i)\n",
    "        num_positions = len(pred_i)\n",
    "        ret.append((1.0/num_positions) * profit_i)\n",
    "        x.append(x[i] + (x[i]/num_positions) * profit_i)"
   ]
  },
  {
   "cell_type": "code",
   "execution_count": 68,
   "metadata": {},
   "outputs": [
    {
     "data": {
      "image/png": "[encoded data removed]",
      "text/plain": [
       "<Figure size 432x288 with 1 Axes>"
      ]
     },
     "metadata": {
      "needs_background": "light"
     },
     "output_type": "display_data"
    }
   ],
   "source": [
    "plt.plot(x);"
   ]
  },
  {
   "cell_type": "markdown",
   "metadata": {},
   "source": [
    "## Compared to a buy-and-hold of SPY"
   ]
  },
  {
   "cell_type": "code",
   "execution_count": null,
   "metadata": {
    "scrolled": true
   },
   "outputs": [],
   "source": [
    "SPY = pd.read_pickle(r'C:\\Users\\niels\\OneDrive\\Machine Learning 2022\\Lecture 2\\SPY_cum_ret.pkl')\n",
    "SPY = SPY.loc['2003-04-01':'2018-09-30']\n",
    "SPY = SPY.resample('Q').ffill()\n",
    "SPY['spy_cum_ret'] = (SPY['spy_cum_ret'] - SPY['spy_cum_ret'][0] + 1)\n",
    "SPY['strategy'] = x"
   ]
  },
  {
   "cell_type": "code",
   "execution_count": null,
   "metadata": {},
   "outputs": [],
   "source": [
    "SPY.plot();"
   ]
  },
  {
   "cell_type": "code",
   "execution_count": null,
   "metadata": {},
   "outputs": [],
   "source": [
    "strategy_mean_ret = (SPY['strategy'] - 1).diff().mean()\n",
    "strategy_std = (SPY['strategy'] - 1).diff().std()\n",
    "print('Strategy Sharpe Ratio: ',strategy_mean_ret/strategy_std)"
   ]
  },
  {
   "cell_type": "code",
   "execution_count": null,
   "metadata": {},
   "outputs": [],
   "source": [
    "spy_mean_ret = (SPY['spy_cum_ret'] - 1).diff().mean()\n",
    "spy_std = (SPY['spy_cum_ret'] - 1).diff().std()\n",
    "print('SPY Sharpe Ratio: ',spy_mean_ret/spy_std)"
   ]
  },
  {
   "cell_type": "markdown",
   "metadata": {},
   "source": [
    "### Total Returns"
   ]
  },
  {
   "cell_type": "code",
   "execution_count": null,
   "metadata": {},
   "outputs": [],
   "source": [
    "x[-1]"
   ]
  },
  {
   "cell_type": "code",
   "execution_count": null,
   "metadata": {},
   "outputs": [],
   "source": [
    "SPY['spy_cum_ret'][-1]"
   ]
  },
  {
   "cell_type": "markdown",
   "metadata": {},
   "source": [
    "### Computing the (quarterly) $\\alpha$ of the strategy"
   ]
  },
  {
   "cell_type": "code",
   "execution_count": null,
   "metadata": {},
   "outputs": [],
   "source": [
    "strategy_ret = (SPY['strategy'] - 1).diff().values[1:]\n",
    "spy_ret = (SPY['spy_cum_ret'] - 1).diff().values[1:]"
   ]
  },
  {
   "cell_type": "code",
   "execution_count": null,
   "metadata": {},
   "outputs": [],
   "source": [
    "beta = (np.cov(spy_ret,strategy_ret)/np.var(spy_ret))[1,0]\n",
    "beta"
   ]
  },
  {
   "cell_type": "code",
   "execution_count": null,
   "metadata": {},
   "outputs": [],
   "source": [
    "residual_ret = strategy_ret - beta * spy_ret\n",
    "IR = np.mean(residual_ret)/np.std(residual_ret)\n",
    "IR"
   ]
  },
  {
   "cell_type": "code",
   "execution_count": null,
   "metadata": {},
   "outputs": [],
   "source": [
    "alpha = np.mean(residual_ret)\n",
    "alpha"
   ]
  },
  {
   "cell_type": "code",
   "execution_count": null,
   "metadata": {},
   "outputs": [],
   "source": []
  }
 ],
 "metadata": {
  "kernelspec": {
   "display_name": "Python 3",
   "language": "python",
   "name": "python3"
  },
  "language_info": {
   "codemirror_mode": {
    "name": "ipython",
    "version": 3
   },
   "file_extension": ".py",
   "mimetype": "text/x-python",
   "name": "python",
   "nbconvert_exporter": "python",
   "pygments_lexer": "ipython3",
   "version": "3.9.6"
  },
  "latex_envs": {
   "LaTeX_envs_menu_present": true,
   "autoclose": false,
   "autocomplete": true,
   "bibliofile": "biblio.bib",
   "cite_by": "apalike",
   "current_citInitial": 1,
   "eqLabelWithNumbers": true,
   "eqNumInitial": 1,
   "hotkeys": {
    "equation": "Ctrl-E",
    "itemize": "Ctrl-I"
   },
   "labels_anchors": false,
   "latex_user_defs": false,
   "report_style_numbering": false,
   "user_envs_cfg": false
  }
 },
 "nbformat": 4,
 "nbformat_minor": 4
}
